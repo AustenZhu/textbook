{
 "cells": [
  {
   "cell_type": "code",
   "execution_count": null,
   "metadata": {
    "collapsed": true
   },
   "outputs": [],
   "source": [
    "from datascience import *\n",
    "from datascience.predicates import are\n",
    "import numpy as np\n",
    "import matplotlib\n",
    "matplotlib.use('Agg', warn=False)\n",
    "%matplotlib inline\n",
    "import matplotlib.pyplot as plots\n",
    "plots.style.use('fivethirtyeight')"
   ]
  },
  {
   "cell_type": "code",
   "execution_count": null,
   "metadata": {
    "collapsed": true
   },
   "outputs": [],
   "source": [
    "def import_data():\n",
    "    import pandas as pd\n",
    "    investments = Table.from_df(pd.read_stata(\"AEJApp-2010-0343_Data_and_Code/investments_data.dta\"))\n",
    "    investments['ani_sales_a_m'] = np.nan_to_num(investments['ani_sales_a']) / 6\n",
    "    investments['crop_sales_m'] = np.nan_to_num(investments['crop_sales']) / 12\n",
    "    investments['home_prod_tot_w3'] = investments['crop_sales_m'] + investments['ani_sales_a_m'] + np.nan_to_num(investments['homeprod']) + np.nan_to_num(investments['ani_prod_sales_a'])\n",
    "    investments = investments.where(~np.isnan(investments['hhsize_ae2']))\n",
    "    investments['home_prod_tot_w3_pp_ae2'] = investments['home_prod_tot_w3'] / investments['hhsize_ae2']\n",
    "    investments = investments.where('home_prod_tot_w3_pp_ae2', are.strictly_between(0, 200)) # Trim zeros and large numbers for visualization purposes\n",
    "    investments = investments.where('wave', are.equal_to(3) | are.equal_to(7))\n",
    "    investments = investments.where('up_cwagepm', are.strictly_between(0, 10000))\n",
    "    investments['Group'] = investments['wave'] == 3\n",
    "    investments['Average investment income (pesos/year)'] = investments['home_prod_tot_w3_pp_ae2']\n",
    "    investments.relabel('comuid', \"Community ID\")\n",
    "    investments.relabel('min_dist', 'Distance to nearest city')\n",
    "    investments['Group name'] = investments.apply(lambda w: \"Treatment\" if w == 7 else \"Control\", \"wave\")\n",
    "    investments = investments.select(\"Average investment income (pesos/year)\", \"Group\", \"Group name\", \"Community ID\", \"Distance to nearest city\")\n",
    "    investments.to_csv(\"investments.csv\")\n",
    "    \n",
    "    return investments"
   ]
  },
  {
   "cell_type": "code",
   "execution_count": null,
   "metadata": {
    "collapsed": true
   },
   "outputs": [],
   "source": [
    "investments = import_data()"
   ]
  },
  {
   "cell_type": "code",
   "execution_count": null,
   "metadata": {
    "collapsed": true
   },
   "outputs": [],
   "source": [
    "by_comuid = investments.group(['Community ID', 'Group'], np.mean)\n",
    "for c in investments.labels:\n",
    "    if c != 'Community ID' and c != 'Group':\n",
    "        by_comuid.relabel(c + ' mean', c)\n",
    "by_comuid['Group name'] = by_comuid.apply(lambda w: \"Treatment\" if w else \"Control\", \"Group\")"
   ]
  },
  {
   "cell_type": "code",
   "execution_count": null,
   "metadata": {
    "collapsed": true
   },
   "outputs": [],
   "source": [
    "by_comuid.to_csv(\"progresa.csv\")"
   ]
  },
  {
   "cell_type": "code",
   "execution_count": null,
   "metadata": {
    "collapsed": true
   },
   "outputs": [],
   "source": [
    "def stratified_sample(tbl, column, size):\n",
    "    vals = np.unique(tbl[column])\n",
    "    size_per = int(np.round(size / len(vals)))\n",
    "    result = tbl.where(column, vals[0]).sample(size_per, with_replacement=False)\n",
    "    for v in vals[1:]:\n",
    "        result.append(tbl.where(column, v).sample(size_per, with_replacement=False))\n",
    "    return result"
   ]
  },
  {
   "cell_type": "code",
   "execution_count": null,
   "metadata": {
    "collapsed": true
   },
   "outputs": [],
   "source": [
    "s = stratified_sample(by_comuid, 'Group', 200)\n",
    "s.scatter('Group', 'Distance to nearest city', alpha=.2)\n",
    "plots.xticks([0, 1], ['Control', 'Treatment'], rotation='vertical');\n",
    "s.scatter('Group', \"Average investment income (pesos/year)\", alpha=.2)\n",
    "plots.xticks([0, 1], ['Control', 'Treatment'], rotation='vertical');\n",
    "s.to_csv(\"progresa_sample.csv\")"
   ]
  }
 ],
 "metadata": {
  "anaconda-cloud": {},
  "kernelspec": {
   "display_name": "Python [datascience]",
   "language": "python",
   "name": "Python [datascience]"
  },
  "language_info": {
   "codemirror_mode": {
    "name": "ipython",
    "version": 3
   },
   "file_extension": ".py",
   "mimetype": "text/x-python",
   "name": "python",
   "nbconvert_exporter": "python",
   "pygments_lexer": "ipython3",
   "version": "3.5.1"
  }
 },
 "nbformat": 4,
 "nbformat_minor": 0
}
