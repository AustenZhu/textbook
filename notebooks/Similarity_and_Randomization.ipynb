{
 "cells": [
  {
   "cell_type": "code",
   "execution_count": 1,
   "metadata": {
    "collapsed": true
   },
   "outputs": [],
   "source": [
    "# HIDDEN\n",
    "from datascience import *\n",
    "from datascience.predicates import are\n",
    "import numpy as np\n",
    "import matplotlib\n",
    "matplotlib.use('Agg', warn=False)\n",
    "%matplotlib inline\n",
    "import matplotlib.pyplot as plots\n",
    "plots.style.use('fivethirtyeight')"
   ]
  },
  {
   "cell_type": "markdown",
   "metadata": {},
   "source": [
    "### Similarity and Randomization"
   ]
  },
  {
   "cell_type": "markdown",
   "metadata": {},
   "source": [
    "#### An experiment in fuel efficiency\n",
    "Here's one way to think about the difficulty in our previous analysis of fuel efficiency: the cars with high fuel efficiency were not *otherwise similar* to the cars with low fuel efficiency.  The high-efficiency cars had slower acceleration.\n",
    "\n",
    "Suppose we were free to design an *experiment* to learn about the causal effect of high fuel efficiency on price.  We would want to create many cars identical to each other in every way *except* their fuel efficiency.  Then any observed association between price and fuel efficiency would indicate that fuel efficiency causes a change in price, since nothing else could have made a difference.\n",
    "\n",
    "Car companies are in the business of building many copies of the same car, so this is a feasible (but potentially expensive) experiment.  We might artificially impede the efficiency of some cars (or simply advertise varying levels of efficiency) and observe the effect on the prices buyers are willing to pay."
   ]
  },
  {
   "cell_type": "markdown",
   "metadata": {},
   "source": [
    "#### Randomized experiments\n",
    "In many other domains, it is difficult to create many identical units for study, varying only the treatment of interest.  For example, to study the effect of a medical treatment on humans, we would need many identical humans!\n",
    "\n",
    "Instead, the most commonly-used tactic is to *randomly assign* varying levels of the treatment.  It is simplest to think about random assignment when there are only two levels of treatment, created by performing some change or no change.  The individuals receiving the change are called the *treatment group*, and those receiving no change are called the *control group*.\n",
    "\n",
    "The key point of randomized assignment is this: **By randomly assigning individuals to treatment or control, we ensure that the two groups are *approximately similar* in all ways.**\n",
    "\n",
    "If you are able to randomize individuals into the treatment and control groups,\n",
    "you are running a *randomized controlled experiment*, also known as a\n",
    "*randomized controlled trial* (RCT). Sometimes, people’s responses in an\n",
    "experiment are influenced by their knowing which group they are in. So if you\n",
    "are studying people, you might want to run a *blind* experiment in which\n",
    "individuals do not know whether they\n",
    "are in the treatment group or the control group. To make this work, you will\n",
    "have to give the control group a *placebo*, which is something that looks\n",
    "exactly like the treatment but in fact has no effect.\n",
    "\n",
    "Randomized controlled experiments have long been a gold standard in the medical\n",
    "field, for example in establishing whether a new drug works. They are also\n",
    "becoming more commonly used in other fields such as economics."
   ]
  }
 ],
 "metadata": {
  "anaconda-cloud": {},
  "kernelspec": {
   "display_name": "Python [datascience]",
   "language": "python",
   "name": "Python [datascience]"
  },
  "language_info": {
   "codemirror_mode": {
    "name": "ipython",
    "version": 3
   },
   "file_extension": ".py",
   "mimetype": "text/x-python",
   "name": "python",
   "nbconvert_exporter": "python",
   "pygments_lexer": "ipython3",
   "version": "3.5.1"
  }
 },
 "nbformat": 4,
 "nbformat_minor": 0
}
