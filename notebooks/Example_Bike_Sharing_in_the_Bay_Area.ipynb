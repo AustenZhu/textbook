{
 "cells": [
  {
   "cell_type": "code",
   "execution_count": 2,
   "metadata": {
    "collapsed": true,
    "deletable": true,
    "editable": true
   },
   "outputs": [],
   "source": [
    "# HIDDEN\n",
    "from datascience import *\n",
    "%matplotlib inline\n",
    "import matplotlib.pyplot as plt\n",
    "plt.style.use('fivethirtyeight')\n",
    "import math\n",
    "from scipy import stats\n",
    "import numpy as np"
   ]
  },
  {
   "cell_type": "markdown",
   "metadata": {
    "deletable": true,
    "editable": true
   },
   "source": [
    "We end this chapter by using all the methods we have learned to examine a new and large dataset. We will also introduce `map_table`, a powerful visualization tool.\n",
    "\n",
    "The [Bay Area Bike Share](http://www.bayareabikeshare.com/) service published a [dataset](http://www.bayareabikeshare.com/open-data) describing every bicycle rental from September 2014 to August 2015 in their system. There were 354,152 rentals in all. The columns are:\n",
    "\n",
    "- An ID for the rental\n",
    "- Duration of the rental, in seconds\n",
    "- Start date\n",
    "- Name of the Start Station and code for Start Terminal\n",
    "- Name of the End Station and code for End Terminal\n",
    "- A serial number for the bike\n",
    "- Subscriber type and zip code"
   ]
  },
  {
   "cell_type": "code",
   "execution_count": 3,
   "metadata": {
    "collapsed": false,
    "deletable": true,
    "editable": true
   },
   "outputs": [
    {
     "data": {
      "text/html": [
       "<table border=\"1\" class=\"dataframe\">\n",
       "    <thead>\n",
       "        <tr>\n",
       "            <th>Trip ID</th> <th>Duration</th> <th>Start Date</th> <th>Start Station</th> <th>Start Terminal</th> <th>End Date</th> <th>End Station</th> <th>End Terminal</th> <th>Bike #</th> <th>Subscriber Type</th> <th>Zip Code</th>\n",
       "        </tr>\n",
       "    </thead>\n",
       "    <tbody>\n",
       "        <tr>\n",
       "            <td>913460 </td> <td>765     </td> <td>8/31/2015 23:26</td> <td>Harry Bridges Plaza (Ferry Building)         </td> <td>50            </td> <td>8/31/2015 23:39</td> <td>San Francisco Caltrain (Townsend at 4th)     </td> <td>70          </td> <td>288   </td> <td>Subscriber     </td> <td>2139    </td>\n",
       "        </tr>\n",
       "    </tbody>\n",
       "        <tr>\n",
       "            <td>913459 </td> <td>1036    </td> <td>8/31/2015 23:11</td> <td>San Antonio Shopping Center                  </td> <td>31            </td> <td>8/31/2015 23:28</td> <td>Mountain View City Hall                      </td> <td>27          </td> <td>35    </td> <td>Subscriber     </td> <td>95032   </td>\n",
       "        </tr>\n",
       "    </tbody>\n",
       "        <tr>\n",
       "            <td>913455 </td> <td>307     </td> <td>8/31/2015 23:13</td> <td>Post at Kearny                               </td> <td>47            </td> <td>8/31/2015 23:18</td> <td>2nd at South Park                            </td> <td>64          </td> <td>468   </td> <td>Subscriber     </td> <td>94107   </td>\n",
       "        </tr>\n",
       "    </tbody>\n",
       "        <tr>\n",
       "            <td>913454 </td> <td>409     </td> <td>8/31/2015 23:10</td> <td>San Jose City Hall                           </td> <td>10            </td> <td>8/31/2015 23:17</td> <td>San Salvador at 1st                          </td> <td>8           </td> <td>68    </td> <td>Subscriber     </td> <td>95113   </td>\n",
       "        </tr>\n",
       "    </tbody>\n",
       "        <tr>\n",
       "            <td>913453 </td> <td>789     </td> <td>8/31/2015 23:09</td> <td>Embarcadero at Folsom                        </td> <td>51            </td> <td>8/31/2015 23:22</td> <td>Embarcadero at Sansome                       </td> <td>60          </td> <td>487   </td> <td>Customer       </td> <td>9069    </td>\n",
       "        </tr>\n",
       "    </tbody>\n",
       "        <tr>\n",
       "            <td>913452 </td> <td>293     </td> <td>8/31/2015 23:07</td> <td>Yerba Buena Center of the Arts (3rd @ Howard)</td> <td>68            </td> <td>8/31/2015 23:12</td> <td>San Francisco Caltrain (Townsend at 4th)     </td> <td>70          </td> <td>538   </td> <td>Subscriber     </td> <td>94118   </td>\n",
       "        </tr>\n",
       "    </tbody>\n",
       "        <tr>\n",
       "            <td>913451 </td> <td>896     </td> <td>8/31/2015 23:07</td> <td>Embarcadero at Folsom                        </td> <td>51            </td> <td>8/31/2015 23:22</td> <td>Embarcadero at Sansome                       </td> <td>60          </td> <td>363   </td> <td>Customer       </td> <td>92562   </td>\n",
       "        </tr>\n",
       "    </tbody>\n",
       "        <tr>\n",
       "            <td>913450 </td> <td>255     </td> <td>8/31/2015 22:16</td> <td>Embarcadero at Sansome                       </td> <td>60            </td> <td>8/31/2015 22:20</td> <td>Steuart at Market                            </td> <td>74          </td> <td>470   </td> <td>Subscriber     </td> <td>94111   </td>\n",
       "        </tr>\n",
       "    </tbody>\n",
       "        <tr>\n",
       "            <td>913449 </td> <td>126     </td> <td>8/31/2015 22:12</td> <td>Beale at Market                              </td> <td>56            </td> <td>8/31/2015 22:15</td> <td>Temporary Transbay Terminal (Howard at Beale)</td> <td>55          </td> <td>439   </td> <td>Subscriber     </td> <td>94130   </td>\n",
       "        </tr>\n",
       "    </tbody>\n",
       "        <tr>\n",
       "            <td>913448 </td> <td>932     </td> <td>8/31/2015 21:57</td> <td>Post at Kearny                               </td> <td>47            </td> <td>8/31/2015 22:12</td> <td>South Van Ness at Market                     </td> <td>66          </td> <td>472   </td> <td>Subscriber     </td> <td>94702   </td>\n",
       "        </tr>\n",
       "    </tbody>\n",
       "</table>\n",
       "<p>... (354142 rows omitted)</p"
      ],
      "text/plain": [
       "Trip ID | Duration | Start Date      | Start Station                                 | Start Terminal | End Date        | End Station                                   | End Terminal | Bike # | Subscriber Type | Zip Code\n",
       "913460  | 765      | 8/31/2015 23:26 | Harry Bridges Plaza (Ferry Building)          | 50             | 8/31/2015 23:39 | San Francisco Caltrain (Townsend at 4th)      | 70           | 288    | Subscriber      | 2139\n",
       "913459  | 1036     | 8/31/2015 23:11 | San Antonio Shopping Center                   | 31             | 8/31/2015 23:28 | Mountain View City Hall                       | 27           | 35     | Subscriber      | 95032\n",
       "913455  | 307      | 8/31/2015 23:13 | Post at Kearny                                | 47             | 8/31/2015 23:18 | 2nd at South Park                             | 64           | 468    | Subscriber      | 94107\n",
       "913454  | 409      | 8/31/2015 23:10 | San Jose City Hall                            | 10             | 8/31/2015 23:17 | San Salvador at 1st                           | 8            | 68     | Subscriber      | 95113\n",
       "913453  | 789      | 8/31/2015 23:09 | Embarcadero at Folsom                         | 51             | 8/31/2015 23:22 | Embarcadero at Sansome                        | 60           | 487    | Customer        | 9069\n",
       "913452  | 293      | 8/31/2015 23:07 | Yerba Buena Center of the Arts (3rd @ Howard) | 68             | 8/31/2015 23:12 | San Francisco Caltrain (Townsend at 4th)      | 70           | 538    | Subscriber      | 94118\n",
       "913451  | 896      | 8/31/2015 23:07 | Embarcadero at Folsom                         | 51             | 8/31/2015 23:22 | Embarcadero at Sansome                        | 60           | 363    | Customer        | 92562\n",
       "913450  | 255      | 8/31/2015 22:16 | Embarcadero at Sansome                        | 60             | 8/31/2015 22:20 | Steuart at Market                             | 74           | 470    | Subscriber      | 94111\n",
       "913449  | 126      | 8/31/2015 22:12 | Beale at Market                               | 56             | 8/31/2015 22:15 | Temporary Transbay Terminal (Howard at Beale) | 55           | 439    | Subscriber      | 94130\n",
       "913448  | 932      | 8/31/2015 21:57 | Post at Kearny                                | 47             | 8/31/2015 22:12 | South Van Ness at Market                      | 66           | 472    | Subscriber      | 94702\n",
       "... (354142 rows omitted)"
      ]
     },
     "execution_count": 3,
     "metadata": {},
     "output_type": "execute_result"
    }
   ],
   "source": [
    "trips = Table.read_table('trip.csv')\n",
    "trips"
   ]
  }
 ],
 "metadata": {
  "anaconda-cloud": {},
  "kernelspec": {
   "display_name": "Python [Root]",
   "language": "python",
   "name": "Python [Root]"
  },
  "language_info": {
   "codemirror_mode": {
    "name": "ipython",
    "version": 3
   },
   "file_extension": ".py",
   "mimetype": "text/x-python",
   "name": "python",
   "nbconvert_exporter": "python",
   "pygments_lexer": "ipython3",
   "version": "3.5.2"
  }
 },
 "nbformat": 4,
 "nbformat_minor": 0
}
