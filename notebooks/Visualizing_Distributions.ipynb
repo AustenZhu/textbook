{
 "cells": [
  {
   "cell_type": "markdown",
   "metadata": {
    "deletable": true,
    "editable": true
   },
   "source": [
    "In this chapter we will learn about *distributions*.  Visualizations will be our primary tool for understanding and analyzing distributions.\n",
    "\n",
    "**Terminology.** A distribution is a mathematical object that tells us, for each potential value in a dataset, how often that value appears.  For example, in a bag with one white ball and one red ball, the distribution of ball colors in the bag can be described as \"one white and one red.\"\n",
    "\n",
    "A *frequency* or sometimes *probability* distribution is a distribution whose amounts have been normalized to add up to 1.  That means we divide each count by the total count, producing *proportions* of the total.  The frequency distribution of the ball colors in the bag is \"$\\frac{1}{2}$ white and $\\frac{1}{2}$ red.\"  Notice that the frequency distribution doesn't tell us how many balls are in the bag.  Sometimes this is actually a desirable property.\n",
    "\n",
    "When it's not clear from context whether a distribution describes counts or proportions, we will call non-frequency distributions \"count distributions.\""
   ]
  }
 ],
 "metadata": {
  "anaconda-cloud": {},
  "kernelspec": {
   "display_name": "Python 3",
   "language": "python",
   "name": "python3"
  },
  "language_info": {
   "codemirror_mode": {
    "name": "ipython",
    "version": 3
   },
   "file_extension": ".py",
   "mimetype": "text/x-python",
   "name": "python",
   "nbconvert_exporter": "python",
   "pygments_lexer": "ipython3",
   "version": "3.5.1"
  }
 },
 "nbformat": 4,
 "nbformat_minor": 0
}
