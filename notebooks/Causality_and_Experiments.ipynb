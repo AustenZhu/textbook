{
 "cells": [
  {
   "cell_type": "markdown",
   "metadata": {
    "collapsed": true,
    "deletable": true,
    "editable": true
   },
   "source": [
    "Causality and Experiments\n",
    "==============\n",
    "\n",
    "Does the death penalty have a deterrent effect? Is chocolate good for you? What\n",
    "causes breast cancer?\n",
    "\n",
    "All of these questions attempt to assign a cause to an effect. A careful\n",
    "examination of data can help shed light on questions like these. In this section\n",
    "you will learn some of the fundamental concepts involved in establishing\n",
    "causality.\n",
    "\n",
    "Observation is a key to good science. An *observational study* is one in which\n",
    "scientists make conclusions based on data that they have observed but had no\n",
    "hand in generating. In data science, many such studies involve observations on a\n",
    "group of individuals, a factor of interest called a *treatment*, and an\n",
    "*outcome* measured on each individual.\n",
    "\n",
    "It is easiest to think of the individuals as people. In a study of whether\n",
    "chocolate is good for the health, the individuals would indeed be people, the\n",
    "treatment would be eating chocolate, and the outcome might be a measure of blood\n",
    "pressure. But individuals in observational studies need not be people. In a\n",
    "study of whether the death penalty has a deterrent effect, the individuals could\n",
    "be the 50 states of the union. A state law allowing the death penalty would be\n",
    "the treatment, and an outcome could be the state’s murder rate.\n",
    "\n",
    "The fundamental question is whether the treatment has an effect on the outcome.\n",
    "Any relation between the treatment and the outcome is called an *association*.\n",
    "If the treatment causes the outcome to occur, then the association is *causal*.\n",
    "*Causality* is at the heart of all three questions posed at the start of this\n",
    "section. For example, one of the questions was whether chocolate directly causes\n",
    "improvements in health, not just whether there there is a relation between\n",
    "chocolate and health.\n",
    "\n",
    "### What does 'cause' mean?\n",
    "\n",
    "The precise meaning of causality is a difficult philosophical question, and we\n",
    "can't address it in this text, but we will need a working definition.  Suppose\n",
    "we claim that chocolate *causes* your health to improve.  Then we really mean:\n",
    "\n",
    "> \"*If* you eat chocolate, *then* your health will be better than it will be if\n",
    "you don't eat chocolate.\"\n",
    "\n",
    "Causal claims therefore aid in decision making.  In this case, knowing the\n",
    "answer to this question would help us decide whether (or how often) to eat\n",
    "chocolate.  That's why causal claims are important.\n",
    "\n",
    "The establishment of causality often takes place in two stages. First, an\n",
    "association is observed. Next, a more careful analysis leads to a decision about\n",
    "causality."
   ]
  }
 ],
 "metadata": {
  "kernelspec": {
   "display_name": "Python 3",
   "language": "python",
   "name": "python3"
  },
  "language_info": {
   "codemirror_mode": {
    "name": "ipython",
    "version": 3
   },
   "file_extension": ".py",
   "mimetype": "text/x-python",
   "name": "python",
   "nbconvert_exporter": "python",
   "pygments_lexer": "ipython3",
   "version": "3.5.1"
  }
 },
 "nbformat": 4,
 "nbformat_minor": 0
}
