{
 "cells": [
  {
   "cell_type": "code",
   "execution_count": 2,
   "metadata": {
    "collapsed": false
   },
   "outputs": [],
   "source": [
    "# HIDDEN\n",
    "from datascience import *\n",
    "%matplotlib inline\n",
    "import matplotlib.pyplot as plots\n",
    "plots.style.use('fivethirtyeight')\n",
    "import numpy as np"
   ]
  },
  {
   "cell_type": "markdown",
   "metadata": {},
   "source": [
    "In the early 1960's, in Talladega County in Alabama, a black man called Robert Swain was convicted of raping a white woman and was sentenced to death. He appealed his sentence to the U.S. Supreme Court, citing among other factors the all-white jury. His case was called Swain v. Alabama. In this section, we will perform our own analysis of the data in the case and examine some questions that arise as a result."
   ]
  },
  {
   "cell_type": "markdown",
   "metadata": {},
   "source": [
    "### Jury Panels ###\n",
    "\n",
    "A jury panel is a group of people chosen to be prospective jurors; the final trial jury is selected from among them. Jury panels can consist of a few dozen people or several thousand, depending on the trial. When Robert Swain was tried, only men aged 21 or older were allowed to serve on juries in Talladega County.  There were around 16,000 eligible jurors in Talladega County, and there were 100 people selected for Swain's jury panel.\n",
    "\n",
    "The final jury is selected from the panel by deliberate inclusion or exclusion. The law allows potential jurors to be excused for medical reasons; lawyers on both sides may strike a certain number of potential jurors from the list for virtually any reason in what are called \"peremptory challenges\"; the trial judge might make a selection based on questionnaires filled out by the panel; and so on. But the initial panel is supposed to resemble a random sample of the population of eligible jurors."
   ]
  },
  {
   "cell_type": "markdown",
   "metadata": {},
   "source": [
    "### Racial bias in jury selection\n",
    "Swain argued that jury selection in his original trial had been racially biased.  26% of Talladega's population of 16,000 eligible jurors were black, but there were only 8 black men among the 100 selected for the jury panel. These 8 were all struck by peremptory challenges from the prosecution, so no black man was selected for the trial jury.\n",
    "\n",
    "In 1965, the Supreme Court of the United States denied Swain's appeal. In its ruling, the Court wrote \"... the overall percentage disparity has been small and reflects no studied attempt to include or exclude a specified number of Negroes.\"\n",
    "\n",
    "If the jury panel was truly a random sample from the eligible population, we can use Python to *simulate* those random samples and see what would happen.  How often do you think you would find only 8 black men in a sample of 100, from a population in which 26% are black?\n",
    "\n",
    "If it turns out that that is an extremely rare event, then we can infer that the jury panel wasn't really a random sample from the eligible population."
   ]
  },
  {
   "cell_type": "markdown",
   "metadata": {},
   "source": [
    "### Simulating the eligible juror population"
   ]
  },
  {
   "cell_type": "markdown",
   "metadata": {},
   "source": [
    "Let us first create a table to simulate the population of eligible jurors.  It will have 16,000 rows, one for each person.  Since we are interested in whether selected jurors are black or not, we will have a single column called \"Race\" that identifies each person as \"Black\" or \"Non-black\".\n",
    "\n",
    "We will make use of two new `numpy` functions: `np.append` and `np.repeat`:\n",
    "* `np.append` takes two arrays as its arguments, and returns a new array that contains the elements of the first array and then the elements of the second.\n",
    "* `np.repeat` takes a value (like a string or number) as its first argument, and a number of repetitions as its second argument.  It returns an array containing that many copies of the value."
   ]
  },
  {
   "cell_type": "code",
   "execution_count": 3,
   "metadata": {
    "collapsed": false
   },
   "outputs": [
    {
     "data": {
      "text/html": [
       "<table border=\"1\" class=\"dataframe\">\n",
       "    <thead>\n",
       "        <tr>\n",
       "            <th>Race</th>\n",
       "        </tr>\n",
       "    </thead>\n",
       "    <tbody>\n",
       "        <tr>\n",
       "            <td>Black</td>\n",
       "        </tr>\n",
       "    </tbody>\n",
       "        <tr>\n",
       "            <td>Black</td>\n",
       "        </tr>\n",
       "    </tbody>\n",
       "        <tr>\n",
       "            <td>Black</td>\n",
       "        </tr>\n",
       "    </tbody>\n",
       "        <tr>\n",
       "            <td>Black</td>\n",
       "        </tr>\n",
       "    </tbody>\n",
       "        <tr>\n",
       "            <td>Black</td>\n",
       "        </tr>\n",
       "    </tbody>\n",
       "        <tr>\n",
       "            <td>Black</td>\n",
       "        </tr>\n",
       "    </tbody>\n",
       "        <tr>\n",
       "            <td>Black</td>\n",
       "        </tr>\n",
       "    </tbody>\n",
       "        <tr>\n",
       "            <td>Black</td>\n",
       "        </tr>\n",
       "    </tbody>\n",
       "        <tr>\n",
       "            <td>Black</td>\n",
       "        </tr>\n",
       "    </tbody>\n",
       "        <tr>\n",
       "            <td>Black</td>\n",
       "        </tr>\n",
       "    </tbody>\n",
       "</table>\n",
       "<p>... (15990 rows omitted)</p"
      ],
      "text/plain": [
       "Race\n",
       "Black\n",
       "Black\n",
       "Black\n",
       "Black\n",
       "Black\n",
       "Black\n",
       "Black\n",
       "Black\n",
       "Black\n",
       "Black\n",
       "... (15990 rows omitted)"
      ]
     },
     "execution_count": 3,
     "metadata": {},
     "output_type": "execute_result"
    }
   ],
   "source": [
    "# Calculating the number of black and non-black people to simulate:\n",
    "population = 16000\n",
    "proportion_black = .26\n",
    "num_black = int(population*proportion_black)\n",
    "num_nonblack = population - num_black\n",
    "\n",
    "black = np.repeat(\"Black\", num_black)\n",
    "non_black = np.repeat(\"Non-black\", num_nonblack)\n",
    "black_and_non_black = np.append(black, non_black)\n",
    "\n",
    "eligible = Table().with_columns(\"Race\", black_and_non_black)\n",
    "eligible"
   ]
  },
  {
   "cell_type": "markdown",
   "metadata": {},
   "source": [
    "We can use `group` to verify that we've created the table we wanted."
   ]
  },
  {
   "cell_type": "code",
   "execution_count": 4,
   "metadata": {
    "collapsed": false
   },
   "outputs": [
    {
     "data": {
      "text/html": [
       "<table border=\"1\" class=\"dataframe\">\n",
       "    <thead>\n",
       "        <tr>\n",
       "            <th>Race</th> <th>count</th>\n",
       "        </tr>\n",
       "    </thead>\n",
       "    <tbody>\n",
       "        <tr>\n",
       "            <td>Black    </td> <td>4160 </td>\n",
       "        </tr>\n",
       "    </tbody>\n",
       "        <tr>\n",
       "            <td>Non-black</td> <td>11840</td>\n",
       "        </tr>\n",
       "    </tbody>\n",
       "</table>"
      ],
      "text/plain": [
       "Race      | count\n",
       "Black     | 4160\n",
       "Non-black | 11840"
      ]
     },
     "execution_count": 4,
     "metadata": {},
     "output_type": "execute_result"
    }
   ],
   "source": [
    "eligible.group(\"Race\")"
   ]
  },
  {
   "cell_type": "markdown",
   "metadata": {},
   "source": [
    "### Simulating random sampling\n",
    "Now we will use a new Table method to produce random samples from `eligible`.  The method `sample` takes a single argument, a sample size.  It returns a new table with a random selection of rows from the original table, with length equal to the sample size.  We will use the optional argument `with_replacement=False`, which we will discuss in a later section."
   ]
  },
  {
   "cell_type": "code",
   "execution_count": 5,
   "metadata": {
    "collapsed": false
   },
   "outputs": [
    {
     "data": {
      "text/html": [
       "<table border=\"1\" class=\"dataframe\">\n",
       "    <thead>\n",
       "        <tr>\n",
       "            <th>Race</th>\n",
       "        </tr>\n",
       "    </thead>\n",
       "    <tbody>\n",
       "        <tr>\n",
       "            <td>Non-black</td>\n",
       "        </tr>\n",
       "    </tbody>\n",
       "        <tr>\n",
       "            <td>Non-black</td>\n",
       "        </tr>\n",
       "    </tbody>\n",
       "        <tr>\n",
       "            <td>Non-black</td>\n",
       "        </tr>\n",
       "    </tbody>\n",
       "        <tr>\n",
       "            <td>Non-black</td>\n",
       "        </tr>\n",
       "    </tbody>\n",
       "        <tr>\n",
       "            <td>Non-black</td>\n",
       "        </tr>\n",
       "    </tbody>\n",
       "        <tr>\n",
       "            <td>Black    </td>\n",
       "        </tr>\n",
       "    </tbody>\n",
       "        <tr>\n",
       "            <td>Non-black</td>\n",
       "        </tr>\n",
       "    </tbody>\n",
       "        <tr>\n",
       "            <td>Black    </td>\n",
       "        </tr>\n",
       "    </tbody>\n",
       "        <tr>\n",
       "            <td>Black    </td>\n",
       "        </tr>\n",
       "    </tbody>\n",
       "        <tr>\n",
       "            <td>Non-black</td>\n",
       "        </tr>\n",
       "    </tbody>\n",
       "</table>\n",
       "<p>... (90 rows omitted)</p"
      ],
      "text/plain": [
       "Race\n",
       "Non-black\n",
       "Non-black\n",
       "Non-black\n",
       "Non-black\n",
       "Non-black\n",
       "Black\n",
       "Non-black\n",
       "Black\n",
       "Black\n",
       "Non-black\n",
       "... (90 rows omitted)"
      ]
     },
     "execution_count": 5,
     "metadata": {},
     "output_type": "execute_result"
    }
   ],
   "source": [
    "simulated_panel = eligible.sample(100, with_replacement=False)\n",
    "simulated_panel"
   ]
  },
  {
   "cell_type": "markdown",
   "metadata": {},
   "source": [
    "This is a simulated sample of 100 people from the eligible population.  We can again use `group` to check its racial composition:"
   ]
  },
  {
   "cell_type": "code",
   "execution_count": 7,
   "metadata": {
    "collapsed": false
   },
   "outputs": [
    {
     "data": {
      "text/html": [
       "<table border=\"1\" class=\"dataframe\">\n",
       "    <thead>\n",
       "        <tr>\n",
       "            <th>Race</th> <th>count</th>\n",
       "        </tr>\n",
       "    </thead>\n",
       "    <tbody>\n",
       "        <tr>\n",
       "            <td>Black    </td> <td>23   </td>\n",
       "        </tr>\n",
       "    </tbody>\n",
       "        <tr>\n",
       "            <td>Non-black</td> <td>77   </td>\n",
       "        </tr>\n",
       "    </tbody>\n",
       "</table>"
      ],
      "text/plain": [
       "Race      | count\n",
       "Black     | 23\n",
       "Non-black | 77"
      ]
     },
     "execution_count": 7,
     "metadata": {},
     "output_type": "execute_result"
    }
   ],
   "source": [
    "simulated_panel.group(\"Race\")"
   ]
  },
  {
   "cell_type": "markdown",
   "metadata": {},
   "source": [
    "The percentage of black people is close to 26%, the population percentage.  Maybe this was an accident, so we can try it again."
   ]
  },
  {
   "cell_type": "code",
   "execution_count": 12,
   "metadata": {
    "collapsed": false
   },
   "outputs": [
    {
     "data": {
      "text/html": [
       "<table border=\"1\" class=\"dataframe\">\n",
       "    <thead>\n",
       "        <tr>\n",
       "            <th>Race</th> <th>count</th>\n",
       "        </tr>\n",
       "    </thead>\n",
       "    <tbody>\n",
       "        <tr>\n",
       "            <td>Black    </td> <td>31   </td>\n",
       "        </tr>\n",
       "    </tbody>\n",
       "        <tr>\n",
       "            <td>Non-black</td> <td>69   </td>\n",
       "        </tr>\n",
       "    </tbody>\n",
       "</table>"
      ],
      "text/plain": [
       "Race      | count\n",
       "Black     | 31\n",
       "Non-black | 69"
      ]
     },
     "execution_count": 12,
     "metadata": {},
     "output_type": "execute_result"
    }
   ],
   "source": [
    "eligible.sample(100, with_replacement=False).group(\"Race\")"
   ]
  },
  {
   "cell_type": "markdown",
   "metadata": {},
   "source": [
    "### Studying the outcomes of sampling"
   ]
  },
  {
   "cell_type": "markdown",
   "metadata": {},
   "source": [
    "So far, it looks like 8 black people is pretty far from an ordinary outcome.  But to really be sure, we should sample more than twice.  Computers are very good at repeating a computation many times, so we will have Python do it thousands of times.  For this, it will be convenient to capture this sampling process in a function."
   ]
  },
  {
   "cell_type": "code",
   "execution_count": 16,
   "metadata": {
    "collapsed": false
   },
   "outputs": [],
   "source": [
    "def count_black_in_sample(sample_size):\n",
    "    \"\"\"Simulates a jury panel of size sample_size sampled at random from the eligible population.\n",
    "    \n",
    "    Returns:\n",
    "      int: The number of black people in the randomly-sampled jury panel.\"\"\"\n",
    "    return eligible.sample(sample_size, with_replacement=False)\\\n",
    "                   .group(\"Race\")\\\n",
    "                   .where(\"Race\", are.equal_to(\"Black\"))\\\n",
    "                   .column(\"count\").item(0)"
   ]
  },
  {
   "cell_type": "code",
   "execution_count": 20,
   "metadata": {
    "collapsed": false
   },
   "outputs": [
    {
     "data": {
      "text/plain": [
       "24"
      ]
     },
     "execution_count": 20,
     "metadata": {},
     "output_type": "execute_result"
    }
   ],
   "source": [
    "count_black_in_sample(100)"
   ]
  },
  {
   "cell_type": "markdown",
   "metadata": {},
   "source": [
    "Now we can define a table to hold our simulation results, and use `apply` to call this function repeatedly.  To better organize our code, we will encapsulate that whole process in a function."
   ]
  },
  {
   "cell_type": "code",
   "execution_count": 22,
   "metadata": {
    "collapsed": true
   },
   "outputs": [],
   "source": [
    "def simulate_jury_pools(sample_size, num_simulations):\n",
    "    \"\"\"Simulates num_simulations randomly-chosen jury panels, each of size sample_size.\n",
    "    \n",
    "    Returns:\n",
    "      Table: A table showing the simulation results.  There is one row for each\n",
    "        simulation.  The 'Number black in sample' column records how many black people\n",
    "        were in the simulated jury panel for each simulation.\"\"\"\n",
    "    sample_sizes = Table().with_columns(\n",
    "        \"Simulation #\", np.arange(num_simulations),\n",
    "        \"Sample size\", np.repeat(sample_size, num_simulations))\n",
    "    samples = sample_sizes.with_columns(\n",
    "        \"Number black in sample\",\n",
    "        sample_sizes.apply(count_black_in_sample, \"Sample size\"))\n",
    "    return samples"
   ]
  },
  {
   "cell_type": "code",
   "execution_count": 25,
   "metadata": {
    "collapsed": false
   },
   "outputs": [
    {
     "data": {
      "text/html": [
       "<table border=\"1\" class=\"dataframe\">\n",
       "    <thead>\n",
       "        <tr>\n",
       "            <th>Simulation #</th> <th>Sample size</th> <th>Number black in sample</th>\n",
       "        </tr>\n",
       "    </thead>\n",
       "    <tbody>\n",
       "        <tr>\n",
       "            <td>0           </td> <td>100        </td> <td>26                    </td>\n",
       "        </tr>\n",
       "    </tbody>\n",
       "        <tr>\n",
       "            <td>1           </td> <td>100        </td> <td>26                    </td>\n",
       "        </tr>\n",
       "    </tbody>\n",
       "        <tr>\n",
       "            <td>2           </td> <td>100        </td> <td>25                    </td>\n",
       "        </tr>\n",
       "    </tbody>\n",
       "        <tr>\n",
       "            <td>3           </td> <td>100        </td> <td>29                    </td>\n",
       "        </tr>\n",
       "    </tbody>\n",
       "        <tr>\n",
       "            <td>4           </td> <td>100        </td> <td>27                    </td>\n",
       "        </tr>\n",
       "    </tbody>\n",
       "        <tr>\n",
       "            <td>5           </td> <td>100        </td> <td>30                    </td>\n",
       "        </tr>\n",
       "    </tbody>\n",
       "        <tr>\n",
       "            <td>6           </td> <td>100        </td> <td>23                    </td>\n",
       "        </tr>\n",
       "    </tbody>\n",
       "        <tr>\n",
       "            <td>7           </td> <td>100        </td> <td>17                    </td>\n",
       "        </tr>\n",
       "    </tbody>\n",
       "        <tr>\n",
       "            <td>8           </td> <td>100        </td> <td>32                    </td>\n",
       "        </tr>\n",
       "    </tbody>\n",
       "        <tr>\n",
       "            <td>9           </td> <td>100        </td> <td>20                    </td>\n",
       "        </tr>\n",
       "    </tbody>\n",
       "</table>\n",
       "<p>... (9990 rows omitted)</p"
      ],
      "text/plain": [
       "Simulation # | Sample size | Number black in sample\n",
       "0            | 100         | 26\n",
       "1            | 100         | 26\n",
       "2            | 100         | 25\n",
       "3            | 100         | 29\n",
       "4            | 100         | 27\n",
       "5            | 100         | 30\n",
       "6            | 100         | 23\n",
       "7            | 100         | 17\n",
       "8            | 100         | 32\n",
       "9            | 100         | 20\n",
       "... (9990 rows omitted)"
      ]
     },
     "execution_count": 25,
     "metadata": {},
     "output_type": "execute_result"
    }
   ],
   "source": [
    "simulation_results = simulate_jury_pools(100, 10000)\n",
    "simulation_results"
   ]
  },
  {
   "cell_type": "markdown",
   "metadata": {},
   "source": [
    "Since there are so many simulations, we should use a histogram to display the distribution of the number of black people in the 10,000 simulations."
   ]
  },
  {
   "cell_type": "code",
   "execution_count": 28,
   "metadata": {
    "collapsed": false
   },
   "outputs": [
    {
     "data": {
      "image/png": "[encoded data removed]",
      "text/plain": [
       "<matplotlib.figure.Figure at 0x116e15860>"
      ]
     },
     "metadata": {},
     "output_type": "display_data"
    }
   ],
   "source": [
    "simulation_results.hist(\"Number black in sample\", bins=np.arange(100+2))"
   ]
  },
  {
   "cell_type": "markdown",
   "metadata": {},
   "source": [
    "The histogram tells us that, if the jury panels were really randomly sampled from the eligible population, most panels would have between 15 and 40 black people.  There would essentially *never* be as few as 8 black people, which is what happened in Swain's trial.  Let us draw a line at the number 8 to emphasize that visually."
   ]
  },
  {
   "cell_type": "code",
   "execution_count": 30,
   "metadata": {
    "collapsed": false
   },
   "outputs": [
    {
     "data": {
      "image/png": "[encoded data removed]",
      "text/plain": [
       "<matplotlib.figure.Figure at 0x116af0c18>"
      ]
     },
     "metadata": {},
     "output_type": "display_data"
    }
   ],
   "source": [
    "simulation_results.hist(\"Number black in sample\", bins=np.arange(100+2))\n",
    "plots.axvline(8, color=\"Red\");"
   ]
  },
  {
   "cell_type": "markdown",
   "metadata": {},
   "source": [
    "We have seen that histograms can be slightly misleading for displaying very small proportions.  It's a good idea to directly calculate the number of times there were fewer than 10 black jurors in our simulations:"
   ]
  },
  {
   "cell_type": "code",
   "execution_count": 32,
   "metadata": {
    "collapsed": false
   },
   "outputs": [
    {
     "data": {
      "text/plain": [
       "0"
      ]
     },
     "execution_count": 32,
     "metadata": {},
     "output_type": "execute_result"
    }
   ],
   "source": [
    "simulation_results.where(\"Number black in sample\", are.below(10)).num_rows"
   ]
  },
  {
   "cell_type": "markdown",
   "metadata": {},
   "source": [
    "Our analysis has a clear conclusion, which is that the panel was not a random sample from the eligible popoulation. The analysis does not tell how the jury panels were actually selected. But the Supreme Court's judgment that \"the overall percentage disparity has been small,\" which suggests that Swain might have just been a little bit unlucky in the racial composition of his panel, is certainly false."
   ]
  }
 ],
 "metadata": {
  "anaconda-cloud": {},
  "kernelspec": {
   "display_name": "Python [Root]",
   "language": "python",
   "name": "Python [Root]"
  },
  "language_info": {
   "codemirror_mode": {
    "name": "ipython",
    "version": 3
   },
   "file_extension": ".py",
   "mimetype": "text/x-python",
   "name": "python",
   "nbconvert_exporter": "python",
   "pygments_lexer": "ipython3",
   "version": "3.5.2"
  }
 },
 "nbformat": 4,
 "nbformat_minor": 0
}
