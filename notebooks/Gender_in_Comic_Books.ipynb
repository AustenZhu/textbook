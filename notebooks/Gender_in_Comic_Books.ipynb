{
 "cells": [
  {
   "cell_type": "code",
   "execution_count": 39,
   "metadata": {
    "collapsed": true
   },
   "outputs": [],
   "source": [
    "# HIDDEN\n",
    "from datascience import *\n",
    "from datascience.predicates import are\n",
    "import numpy as np\n",
    "import matplotlib\n",
    "matplotlib.use('Agg', warn=False)\n",
    "%matplotlib inline\n",
    "import matplotlib.pyplot as plots\n",
    "plots.style.use('fivethirtyeight')\n",
    "\n",
    "def load_and_clean_table(url):\n",
    "    \"\"\"Loads a table about Marvel or DC comics from fivethirtyeight's\n",
    "    GitHub repository, and cleans up a few formatting details.\"\"\"\n",
    "    tbl = Table.read_table(url)\n",
    "    if \"Year\" in tbl.labels:\n",
    "        tbl.relabel(\"Year\", \"YEAR\")\n",
    "        tbl.update({'PUBLISHER': 'Marvel'})\n",
    "    else:\n",
    "        tbl.update({'PUBLISHER': 'DC'})\n",
    "    tbl.relabel(\"name\", \"NAME\")\n",
    "    tbl.update({\"APPEARANCES\": np.nan_to_num(tbl.column(\"APPEARANCES\"))})\n",
    "    tbl.update({\"GENDER\": np.char.replace(tbl.column(\"SEX\"), \"nan\", \"Unknown\")})\n",
    "    tbl.update({\"GENDER\": np.char.replace(tbl.column(\"GENDER\"), \" Characters\", \"\")})\n",
    "    \n",
    "    def extract_month(date_text):\n",
    "        import dateutil.parser\n",
    "        try:\n",
    "            return dateutil.parser.parse(date_text).month\n",
    "        except:\n",
    "            return \"Unknown\"\n",
    "    \n",
    "    tbl.update({\"MONTH\": tbl.apply(extract_month, \"FIRST APPEARANCE\")})\n",
    "    tbl.update({\"MONTH\": tbl.apply(lambda d: int(d) if d != \"Unknown\" else -1, \"MONTH\")})\n",
    "    tbl = tbl.select(\"PUBLISHER\", \"NAME\", \"GENDER\", \"APPEARANCES\", \"YEAR\", \"MONTH\")\n",
    "    for l in tbl.labels:\n",
    "        tbl.relabel(l, l.capitalize())\n",
    "    tbl = tbl.where(~np.isnan(tbl.column(\"Year\")))\n",
    "    return tbl"
   ]
  },
  {
   "cell_type": "markdown",
   "metadata": {},
   "source": [
    "In this example, we will explore statistics about characters in comic books.  A 2014 [article](https://fivethirtyeight.com/features/women-in-comic-books/) on FiveThirtyEight examined the representation of women in comics published by DC and Marvel, the two largest publishers of comic books.  The authors collected a dataset about characters from the publishers' [Wikia](http://marvel.wikia.com/Main_Page) [pages](http://dc.wikia.com/wiki/Main_Page) and made it publicly available on [GitHub](https://github.com/fivethirtyeight/data/tree/master/comic-characters).  Using Python, we can load the data directly from the web.\n",
    "\n",
    "This example is meant to illustrate some of the broad themes of this text. You will see code examples like this throughout this text. For now, don't worry if the details of the program don't yet make sense. In fact, important details of this program have been hidden from view. Instead, focus on interpreting the results displayed below the code. Later sections of the text will describe most of the features of the Python programming language used below.\n",
    "\n",
    "First, we read the data about each publisher. The `#` symbol below starts a comment, which is ignored by the computer but helpful for people reading the code. The `=` symbols assign a name on the left to the result of some computation described on the right. A *uniform resource locator* or *URL* is an address on the Internet for some content; in this case, a table of information about comic book characters. (In Python, a name cannot contain any spaces, and so we will often use an underscore `_` to stand in for a space.) So we name the URL for the Marvel data `marvel_url`, and we name the loaded dataset itself `marvel`."
   ]
  },
  {
   "cell_type": "code",
   "execution_count": null,
   "metadata": {
    "collapsed": true
   },
   "outputs": [],
   "source": [
    "# Load datasets from FiveThirtyEight about comics:\n",
    "\n",
    "marvel_url = \"https://github.com/fivethirtyeight/data/raw/master/comic-characters/marvel-wikia-data.csv\"\n",
    "dc_url = \"https://github.com/fivethirtyeight/data/raw/master/comic-characters/dc-wikia-data.csv\"\n",
    "\n",
    "marvel = load_and_clean_table(marvel_url)\n",
    "dc = load_and_clean_table(dc_url)"
   ]
  },
  {
   "cell_type": "markdown",
   "metadata": {},
   "source": [
    "To display one of the tables, we write its name:"
   ]
  },
  {
   "cell_type": "code",
   "execution_count": 37,
   "metadata": {
    "collapsed": false,
    "scrolled": true
   },
   "outputs": [
    {
     "data": {
      "text/html": [
       "<table border=\"1\" class=\"dataframe\">\n",
       "    <thead>\n",
       "        <tr>\n",
       "            <th>Publisher</th> <th>Name</th> <th>Gender</th> <th>Appearances</th> <th>Year</th> <th>Month</th>\n",
       "        </tr>\n",
       "    </thead>\n",
       "    <tbody>\n",
       "        <tr>\n",
       "            <td>Marvel   </td> <td>Spider-Man (Peter Parker)          </td> <td>Male  </td> <td>4043       </td> <td>1962</td> <td>8    </td>\n",
       "        </tr>\n",
       "    </tbody>\n",
       "        <tr>\n",
       "            <td>Marvel   </td> <td>Captain America (Steven Rogers)    </td> <td>Male  </td> <td>3360       </td> <td>1941</td> <td>3    </td>\n",
       "        </tr>\n",
       "    </tbody>\n",
       "        <tr>\n",
       "            <td>Marvel   </td> <td>Wolverine (James \\\"Logan\\\" Howlett)</td> <td>Male  </td> <td>3061       </td> <td>1974</td> <td>10   </td>\n",
       "        </tr>\n",
       "    </tbody>\n",
       "        <tr>\n",
       "            <td>Marvel   </td> <td>Iron Man (Anthony \\\"Tony\\\" Stark)  </td> <td>Male  </td> <td>2961       </td> <td>1963</td> <td>3    </td>\n",
       "        </tr>\n",
       "    </tbody>\n",
       "        <tr>\n",
       "            <td>Marvel   </td> <td>Thor (Thor Odinson)                </td> <td>Male  </td> <td>2258       </td> <td>1950</td> <td>11   </td>\n",
       "        </tr>\n",
       "    </tbody>\n",
       "        <tr>\n",
       "            <td>Marvel   </td> <td>Benjamin Grimm (Earth-616)         </td> <td>Male  </td> <td>2255       </td> <td>1961</td> <td>11   </td>\n",
       "        </tr>\n",
       "    </tbody>\n",
       "        <tr>\n",
       "            <td>Marvel   </td> <td>Reed Richards (Earth-616)          </td> <td>Male  </td> <td>2072       </td> <td>1961</td> <td>11   </td>\n",
       "        </tr>\n",
       "    </tbody>\n",
       "        <tr>\n",
       "            <td>Marvel   </td> <td>Hulk (Robert Bruce Banner)         </td> <td>Male  </td> <td>2017       </td> <td>1962</td> <td>5    </td>\n",
       "        </tr>\n",
       "    </tbody>\n",
       "        <tr>\n",
       "            <td>Marvel   </td> <td>Scott Summers (Earth-616)          </td> <td>Male  </td> <td>1955       </td> <td>1963</td> <td>9    </td>\n",
       "        </tr>\n",
       "    </tbody>\n",
       "        <tr>\n",
       "            <td>Marvel   </td> <td>Jonathan Storm (Earth-616)         </td> <td>Male  </td> <td>1934       </td> <td>1961</td> <td>11   </td>\n",
       "        </tr>\n",
       "    </tbody>\n",
       "</table>\n",
       "<p>... (15551 rows omitted)</p"
      ],
      "text/plain": [
       "Publisher | Name                                | Gender | Appearances | Year | Month\n",
       "Marvel    | Spider-Man (Peter Parker)           | Male   | 4043        | 1962 | 8\n",
       "Marvel    | Captain America (Steven Rogers)     | Male   | 3360        | 1941 | 3\n",
       "Marvel    | Wolverine (James \\\"Logan\\\" Howlett) | Male   | 3061        | 1974 | 10\n",
       "Marvel    | Iron Man (Anthony \\\"Tony\\\" Stark)   | Male   | 2961        | 1963 | 3\n",
       "Marvel    | Thor (Thor Odinson)                 | Male   | 2258        | 1950 | 11\n",
       "Marvel    | Benjamin Grimm (Earth-616)          | Male   | 2255        | 1961 | 11\n",
       "Marvel    | Reed Richards (Earth-616)           | Male   | 2072        | 1961 | 11\n",
       "Marvel    | Hulk (Robert Bruce Banner)          | Male   | 2017        | 1962 | 5\n",
       "Marvel    | Scott Summers (Earth-616)           | Male   | 1955        | 1963 | 9\n",
       "Marvel    | Jonathan Storm (Earth-616)          | Male   | 1934        | 1961 | 11\n",
       "... (15551 rows omitted)"
      ]
     },
     "execution_count": 37,
     "metadata": {},
     "output_type": "execute_result"
    }
   ],
   "source": [
    "marvel"
   ]
  },
  {
   "cell_type": "code",
   "execution_count": 38,
   "metadata": {
    "collapsed": false
   },
   "outputs": [
    {
     "data": {
      "text/html": [
       "<table border=\"1\" class=\"dataframe\">\n",
       "    <thead>\n",
       "        <tr>\n",
       "            <th>Publisher</th> <th>Name</th> <th>Gender</th> <th>Appearances</th> <th>Year</th> <th>Month</th>\n",
       "        </tr>\n",
       "    </thead>\n",
       "    <tbody>\n",
       "        <tr>\n",
       "            <td>DC       </td> <td>Batman (Bruce Wayne)          </td> <td>Male  </td> <td>3093       </td> <td>1939</td> <td>5    </td>\n",
       "        </tr>\n",
       "    </tbody>\n",
       "        <tr>\n",
       "            <td>DC       </td> <td>Superman (Clark Kent)         </td> <td>Male  </td> <td>2496       </td> <td>1986</td> <td>10   </td>\n",
       "        </tr>\n",
       "    </tbody>\n",
       "        <tr>\n",
       "            <td>DC       </td> <td>Green Lantern (Hal Jordan)    </td> <td>Male  </td> <td>1565       </td> <td>1959</td> <td>10   </td>\n",
       "        </tr>\n",
       "    </tbody>\n",
       "        <tr>\n",
       "            <td>DC       </td> <td>James Gordon (New Earth)      </td> <td>Male  </td> <td>1316       </td> <td>1987</td> <td>2    </td>\n",
       "        </tr>\n",
       "    </tbody>\n",
       "        <tr>\n",
       "            <td>DC       </td> <td>Richard Grayson (New Earth)   </td> <td>Male  </td> <td>1237       </td> <td>1940</td> <td>4    </td>\n",
       "        </tr>\n",
       "    </tbody>\n",
       "        <tr>\n",
       "            <td>DC       </td> <td>Wonder Woman (Diana Prince)   </td> <td>Female</td> <td>1231       </td> <td>1941</td> <td>12   </td>\n",
       "        </tr>\n",
       "    </tbody>\n",
       "        <tr>\n",
       "            <td>DC       </td> <td>Aquaman (Arthur Curry)        </td> <td>Male  </td> <td>1121       </td> <td>1941</td> <td>11   </td>\n",
       "        </tr>\n",
       "    </tbody>\n",
       "        <tr>\n",
       "            <td>DC       </td> <td>Timothy Drake (New Earth)     </td> <td>Male  </td> <td>1095       </td> <td>1989</td> <td>8    </td>\n",
       "        </tr>\n",
       "    </tbody>\n",
       "        <tr>\n",
       "            <td>DC       </td> <td>Dinah Laurel Lance (New Earth)</td> <td>Female</td> <td>1075       </td> <td>1969</td> <td>11   </td>\n",
       "        </tr>\n",
       "    </tbody>\n",
       "        <tr>\n",
       "            <td>DC       </td> <td>Flash (Barry Allen)           </td> <td>Male  </td> <td>1028       </td> <td>1956</td> <td>10   </td>\n",
       "        </tr>\n",
       "    </tbody>\n",
       "</table>\n",
       "<p>... (6817 rows omitted)</p"
      ],
      "text/plain": [
       "Publisher | Name                           | Gender | Appearances | Year | Month\n",
       "DC        | Batman (Bruce Wayne)           | Male   | 3093        | 1939 | 5\n",
       "DC        | Superman (Clark Kent)          | Male   | 2496        | 1986 | 10\n",
       "DC        | Green Lantern (Hal Jordan)     | Male   | 1565        | 1959 | 10\n",
       "DC        | James Gordon (New Earth)       | Male   | 1316        | 1987 | 2\n",
       "DC        | Richard Grayson (New Earth)    | Male   | 1237        | 1940 | 4\n",
       "DC        | Wonder Woman (Diana Prince)    | Female | 1231        | 1941 | 12\n",
       "DC        | Aquaman (Arthur Curry)         | Male   | 1121        | 1941 | 11\n",
       "DC        | Timothy Drake (New Earth)      | Male   | 1095        | 1989 | 8\n",
       "DC        | Dinah Laurel Lance (New Earth) | Female | 1075        | 1969 | 11\n",
       "DC        | Flash (Barry Allen)            | Male   | 1028        | 1956 | 10\n",
       "... (6817 rows omitted)"
      ]
     },
     "execution_count": 38,
     "metadata": {},
     "output_type": "execute_result"
    }
   ],
   "source": [
    "dc"
   ]
  },
  {
   "cell_type": "markdown",
   "metadata": {},
   "source": [
    "Each table has a record (displayed in one horizontal row) for every character in the dataset from its respective publisher.  Each vertical column contains a piece of information about each character.  We can see, for example, that Batman has appeared 3,093 times in DC comics since his appearance in May (month 5) 1939."
   ]
  }
 ],
 "metadata": {
  "anaconda-cloud": {},
  "kernelspec": {
   "display_name": "Python [datascience]",
   "language": "python",
   "name": "Python [datascience]"
  },
  "language_info": {
   "codemirror_mode": {
    "name": "ipython",
    "version": 3
   },
   "file_extension": ".py",
   "mimetype": "text/x-python",
   "name": "python",
   "nbconvert_exporter": "python",
   "pygments_lexer": "ipython3",
   "version": "3.5.1"
  }
 },
 "nbformat": 4,
 "nbformat_minor": 0
}
